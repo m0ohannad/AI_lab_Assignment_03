{
  "nbformat": 4,
  "nbformat_minor": 0,
  "metadata": {
    "colab": {
      "name": "Assignment_03.ipynb",
      "provenance": [],
      "authorship_tag": "ABX9TyPf2zdZIT+wBggDQHkjmbEf",
      "include_colab_link": true
    },
    "kernelspec": {
      "name": "python3",
      "display_name": "Python 3"
    },
    "language_info": {
      "name": "python"
    }
  },
  "cells": [
    {
      "cell_type": "markdown",
      "metadata": {
        "id": "view-in-github",
        "colab_type": "text"
      },
      "source": [
        "<a href=\"https://colab.research.google.com/github/m0ohannad/AI_lab_Assignment_03/blob/main/Assignment_03.ipynb\" target=\"_parent\"><img src=\"https://colab.research.google.com/assets/colab-badge.svg\" alt=\"Open In Colab\"/></a>"
      ]
    },
    {
      "cell_type": "markdown",
      "metadata": {
        "id": "XYuCPZ3o9zXE"
      },
      "source": [
        "# **Q1**\n",
        "Count the number of times each unique genre occurs."
      ]
    },
    {
      "cell_type": "markdown",
      "metadata": {
        "id": "9VIZTg8q951z"
      },
      "source": [
        "1. Create an empty dictionary named **genre_counting**.\n",
        "\n",
        "2. Loop through the **apps_data** list of lists (make sure you don't include the header row). For each iteration of the loop:\n",
        "  * Assign the genre to a variable named **genre**. The genre comes as a string and has the index number **11**.\n",
        "  * Check whether **genre** exists as a key in **genre_counting**.\n",
        "    * If it exists, then increment the dictionary value at that key by 1 (the key is equivalent to the value stored in **genre**).\n",
        "    * Else, create a new key-value pair in the dictionary, where the dictionary key is **genre** and the dictionary value is **1**.\n",
        "\n",
        "3. Outside the loop, print genre_counting and try to determine what's the most common app genre in our data set.\n",
        "\n",
        "```\n",
        "opened_file = open('AppleStore.csv', encoding=\"utf8\")\n",
        "from csv import reader\n",
        "read_file = reader(opened_file)\n",
        "apps_data = list(read_file)\n",
        "```\n",
        "\n"
      ]
    },
    {
      "cell_type": "code",
      "metadata": {
        "colab": {
          "base_uri": "https://localhost:8080/"
        },
        "id": "54tv859E9saX",
        "outputId": "e5d32a1a-938b-456b-ebd8-68b0ba406cd0"
      },
      "source": [
        "opened_file = open('AppleStore.csv', encoding=\"utf8\")\n",
        "from csv import reader\n",
        "read_file = reader(opened_file)\n",
        "apps_data = list(read_file)\n",
        "\n",
        "genre_counting ={}\n",
        "for app in apps_data[1:]:\n",
        "  genre = app[11]\n",
        "  if genre in genre_counting:\n",
        "    genre_counting[genre] +=1\n",
        "  else:\n",
        "    genre_counting[genre] = 1\n",
        "\n",
        "most_genre = max(genre_counting, key=genre_counting.get)\n",
        "print(genre_counting)\n",
        "print('The most common app genre is: ',most_genre)"
      ],
      "execution_count": 1,
      "outputs": [
        {
          "output_type": "stream",
          "text": [
            "{'Games': 3862, 'Productivity': 178, 'Weather': 72, 'Shopping': 122, 'Reference': 64, 'Finance': 104, 'Music': 138, 'Utilities': 248, 'Travel': 81, 'Social Networking': 167, 'Sports': 114, 'Business': 57, 'Health & Fitness': 180, 'Entertainment': 535, 'Photo & Video': 349, 'Navigation': 46, 'Education': 453, 'Lifestyle': 144, 'Food & Drink': 63, 'News': 75, 'Book': 112, 'Medical': 23, 'Catalogs': 10}\n",
            "The most common app genre is:  Games\n"
          ],
          "name": "stdout"
        }
      ]
    },
    {
      "cell_type": "markdown",
      "metadata": {
        "id": "nNON9Cf6UfFT"
      },
      "source": [
        "# **Q2**"
      ]
    },
    {
      "cell_type": "markdown",
      "metadata": {
        "id": "gzL__28kUiaN"
      },
      "source": [
        "1. Transform the frequencies inside **content_ratings** to proportions and percentages while creating separate dictionaries for each.\n",
        "  * Assign the dictionary storing proportions to a variable named **c_ratings_proportions**.\n",
        "  * Assign the dictionary storing percentages to a variable named **c_ratings_percentages**.\n",
        "\n",
        "2. Optional challenge: try to solve this exercise using a single for loop (solution to this challenge provided).\n",
        "\n",
        "\n",
        "```\n",
        "content_ratings = {'4+': 4433, '12+': 1155, '9+': 987, '17+': 622}\n",
        "total_number_of_apps = 7197\n",
        "```\n",
        "\n"
      ]
    },
    {
      "cell_type": "code",
      "metadata": {
        "colab": {
          "base_uri": "https://localhost:8080/"
        },
        "id": "lVZwPcxEBeXK",
        "outputId": "5c9da24c-501a-47a8-c0f4-28e18b8346f8"
      },
      "source": [
        "content_ratings = {'4+': 4433, '12+': 1155, '9+': 987, '17+': 622}\n",
        "total_number_of_apps = 7197\n",
        "\n",
        "c_ratings_proportions = {}\n",
        "c_ratings_percentages = {}\n",
        "\n",
        "for rating in content_ratings:\n",
        "  c_ratings_proportions[rating] = content_ratings[rating] / total_number_of_apps\n",
        "  c_ratings_percentages[rating] = \"{}%\".format(content_ratings[rating] / total_number_of_apps * 100)\n",
        "\n",
        "print(c_ratings_proportions)\n",
        "print(c_ratings_percentages)"
      ],
      "execution_count": 2,
      "outputs": [
        {
          "output_type": "stream",
          "text": [
            "{'4+': 0.6159510907322495, '12+': 0.16048353480616923, '9+': 0.13714047519799916, '17+': 0.08642489926358204}\n",
            "{'4+': '61.595109073224954%', '12+': '16.04835348061692%', '9+': '13.714047519799916%', '17+': '8.642489926358204%'}\n"
          ],
          "name": "stdout"
        }
      ]
    },
    {
      "cell_type": "markdown",
      "metadata": {
        "id": "n7piSeGJe8zM"
      },
      "source": [
        "# **Q3**"
      ]
    },
    {
      "cell_type": "markdown",
      "metadata": {
        "id": "RINXfSOkfD9g"
      },
      "source": [
        "1. Begin by finding the minimum and maximum value in the **rating_count_tot** column.\n",
        "  * Extract the values in the **rating_count_tot** column (index number **5**) in a separate list (don't forget to convert to integer or float).\n",
        "  * Find out the minimum and maximum value of that list using the **`min()`** and the **`max()`** commands.\n",
        "\n",
        "2. Based on the minimum and maximum value you've found, choose a few intervals (try to choose five intervals or less).\n",
        "\n",
        "3. Once you've chosen the intervals, compute the frequency of apps for each interval. Store the frequency table in a dictionary.\n",
        "  * Create a dictionary with intervals as dictionary keys and zeros as dictionary values.\n",
        "  * Loop through the **apps_data** data set. Count the frequency of each interval using an **if** statement followed by a series of **elif** clauses.\n",
        "\n",
        "4. Inspect the frequency table and analyze the results.\n",
        "\n",
        "\n",
        "\n",
        "```\n",
        "opened_file = open('AppleStore.csv', encoding=\"utf8\")\n",
        "from csv import reader\n",
        "read_file = reader(opened_file)\n",
        "apps_data = list(read_file)\n",
        "```\n",
        "\n"
      ]
    },
    {
      "cell_type": "code",
      "metadata": {
        "colab": {
          "base_uri": "https://localhost:8080/"
        },
        "id": "PF5pnsKNYsY7",
        "outputId": "5dd48526-8705-4aec-f785-d7f004d40cb6"
      },
      "source": [
        "opened_file = open('AppleStore.csv', encoding=\"utf8\")\n",
        "from csv import reader\n",
        "read_file = reader(opened_file)\n",
        "apps_data = list(read_file)\n",
        "\n",
        "rating_count_tot = []\n",
        "for app in apps_data[1:]:\n",
        "  value = int(app[5])\n",
        "  rating_count_tot.append(value)\n",
        "\n",
        "print(\"The minimum value: \", min(rating_count_tot))\n",
        "print(\"The maximum value: \", max(rating_count_tot))\n",
        "\n",
        "# 0 - 999,999\n",
        "# 1,000,000 - 1,999,999\n",
        "# 2,000,000 - 2,999,999\n",
        "rating_intervals = {'0 - 999,999': 0, '1,000,000 - 1,999,999': 0, '2,000,000 - 2,999,999': 0}\n",
        "\n",
        "for rating in rating_count_tot:\n",
        "  if rating < 1000000:\n",
        "    rating_intervals['0 - 999,999'] += 1\n",
        "  elif rating < 2000000:\n",
        "    rating_intervals['1,000,000 - 1,999,999'] += 1\n",
        "  elif rating < 3000000:\n",
        "    rating_intervals['2,000,000 - 2,999,999'] += 1\n",
        "\n",
        "print(rating_intervals)\n",
        "\n",
        "for i, v in rating_intervals.items():\n",
        "  percentage = v / len(rating_count_tot) *100\n",
        "  print(\"{:.2f}%\\tof rating count total are in the intervals {}\".format(percentage,i))"
      ],
      "execution_count": 3,
      "outputs": [
        {
          "output_type": "stream",
          "text": [
            "The minimum value:  0\n",
            "The maximum value:  2974676\n",
            "{'0 - 999,999': 7191, '1,000,000 - 1,999,999': 3, '2,000,000 - 2,999,999': 3}\n",
            "99.92%\tof rating count total are in the intervals 0 - 999,999\n",
            "0.04%\tof rating count total are in the intervals 1,000,000 - 1,999,999\n",
            "0.04%\tof rating count total are in the intervals 2,000,000 - 2,999,999\n"
          ],
          "name": "stdout"
        }
      ]
    }
  ]
}